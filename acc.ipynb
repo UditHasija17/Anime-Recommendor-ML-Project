{
 "cells": [
  {
   "cell_type": "code",
   "execution_count": 4,
   "metadata": {},
   "outputs": [],
   "source": [
    "\n",
    "import os\n",
    "import pandas as pd\n",
    "import numpy as np\n",
    "import warnings\n",
    "import scipy as sp \n",
    "pd.options.display.max_columns\n",
    "anime_type = 'TV'\n",
    "anime_name = 'Naruto'\n",
    "num_recommendations = 4\n",
    "warnings.filterwarnings(\"always\")\n",
    "warnings.filterwarnings(\"ignore\")\n",
    "\n",
    "from sklearn.metrics.pairwise import cosine_similarity\n",
    "anime_data = pd.read_csv('C:\\\\Users\\\\udit hasija\\\\Documents\\\\Project Anime\\\\data\\\\anime.csv')\n",
    "rating_data = pd.read_csv('C:\\\\Users\\\\udit hasija\\\\Documents\\\\Project Anime\\\\data\\\\rating.csv')\n",
    "anime_data = anime_data[~np.isnan(anime_data['rating'])]\n",
    "anime_data['genre'] = anime_data['genre'].fillna(anime_data['genre'].dropna().mode().values[0])\n",
    "anime_data['type'] = anime_data['type'].fillna(anime_data['type'].dropna().mode().values[0])\n",
    "rating_data['rating'] = rating_data['rating'].apply(lambda x: np.nan if x==-1 else x)\n",
    "atype = anime_type\n",
    "anime_data = anime_data[anime_data['type']==atype]\n",
    "anime_full = pd.merge(anime_data , rating_data , on = 'anime_id')\n",
    "anime_full = anime_full.rename(columns= {'rating_x': 'rating' , 'rating_y':'user_rating'})\n",
    "anime_full = anime_full[['user_id', 'name', 'user_rating']]\n",
    "anime_7500= anime_full[anime_full.user_id <= 25000]\n",
    "pivot = anime_7500.pivot_table(index=['user_id'], columns=['name'], values='user_rating')\n",
    "pivot_n = pivot.apply(lambda x: (x-np.mean(x))/(np.max(x)-np.min(x)), axis=1)\n",
    "pivot_n.fillna(0 , inplace= True)\n",
    "pivot_n = pivot_n.T\n",
    "pivot_n = pivot_n.loc[:, (pivot_n != 0).any(axis=0)]\n",
    "pivsparse = sp.sparse.csr_matrix(pivot_n.values)\n",
    "similarity = cosine_similarity(pivsparse)\n",
    "ani_df = pd.DataFrame(similarity, index = pivot_n.index, columns = pivot_n.index)\n",
    "recommendations = {'name': [], 'match' : [] ,'synopsis': [] ,'episodes':[]}\n",
    "number = 1\n",
    "for anime in ani_df.sort_values(by = anime_name, ascending = False).index[1:int(num_recommendations)+1]:\n",
    "    synop = anime_data[anime_data['name'] == anime]\n",
    "    synopsis = synop['Synopsis'].values[0]\n",
    "    perc = round(ani_df[anime][anime_name]*100,2)\n",
    "    epi = synop['episodes'].values[0]\n",
    "    recommendations['name'].append(anime)\n",
    "    recommendations['synopsis'].append(synopsis)\n",
    "    recommendations['episodes'].append(int(epi))\n",
    "    recommendations['match'].append(perc)\n",
    "    number +=1  \n"
   ]
  },
  {
   "cell_type": "code",
   "execution_count": 5,
   "metadata": {},
   "outputs": [
    {
     "name": "stdout",
     "output_type": "stream",
     "text": [
      "{'name': ['Naruto: Shippuuden', 'Bleach', 'InuYasha', 'Dragon Ball Z'], 'match': [28.34, 19.98, 10.69, 10.25], 'synopsis': ['It has been two and a half years since Naruto Uzumaki left Konohagakure, the Hidden Leaf Village, for intense training following events which fueled his desire to be stronger. Now Akatsuki, the mysterious organization of elite rogue ninja, is closing in on their grand plan which may threaten the safety of the entire shinobi world.\\n \\nAlthough Naruto is older and sinister events loom on the horizon, he has changed little in personality—still rambunctious and childish—though he is now far more confident and possesses an even greater determination to protect his friends and home. Come whatever may, Naruto will carry on with the fight for what is important to him, even at the expense of his own body, in the continuation of the saga about the boy who wishes to become Hokage.', \"Ichigo Kurosaki is an ordinary high schooler—until his family is attacked by a Hollow, a corrupt spirit that seeks to devour human souls. It is then that he meets a Soul Reaper named Rukia Kuchiki, who gets injured while protecting Ichigo's family from the assailant. To save his family, Ichigo accepts Rukia's offer of taking her powers and becomes a Soul Reaper as a result.\\n\\nHowever, as Rukia is unable to regain her powers, Ichigo is given the daunting task of hunting down the Hollows that plague their town. However, he is not alone in his fight, as he is later joined by his friends—classmates Orihime Inoue, Yasutora Sado, and Uryuu Ishida—who each have their own unique abilities. As Ichigo and his comrades get used to their new duties and support each other on and off the battlefield, the young Soul Reaper soon learns that the Hollows are not the only real threat to the human world.\", \"Kagome Higurashi's 15th birthday takes a sudden turn when she is forcefully pulled by a demon into the old well of her family's shrine. Brought to the past, when demons were a common sight in feudal Japan, Kagome finds herself persistently hunted by these vile creatures, all yearning for an item she unknowingly carries: the Shikon Jewel, a small sphere holding extraordinary power. \\n\\nAmid such a predicament, Kagome encounters a half-demon boy named Inuyasha who mistakes her for Kikyou, a shrine maiden he seems to resent. Because of her resemblance to Kikyou, Inuyasha takes a violent dislike to Kagome. However, after realizing the dire circumstances they are both in, he sets aside his hostility and lends her a hand. \\n\\nUnfortunately, during a fight for the Shikon Jewel, the miraculous object ends up shattered into pieces and scattered across the land. Fearing the disastrous consequences of this accident, Kagome and Inuyasha set out on a challenging quest to recover the shards before they fall into the wrong hands.\", \"Five years after winning the World Martial Arts tournament, Gokuu is now living a peaceful life with his wife and son. This changes, however, with the arrival of a mysterious enemy named Raditz who presents himself as Gokuu's long-lost brother. He reveals that Gokuu is a warrior from the once powerful but now virtually extinct Saiyan race, whose homeworld was completely annihilated. When he was sent to Earth as a baby, Gokuu's sole purpose was to conquer and destroy the planet; but after suffering amnesia from a head injury, his violent and savage nature changed, and instead was raised as a kind and well-mannered boy, now fighting to protect others.\\n\\nWith his failed attempt at forcibly recruiting Gokuu as an ally, Raditz warns Gokuu's friends of a new threat that's rapidly approaching Earth—one that could plunge Earth into an intergalactic conflict and cause the heavens themselves to shake. A war will be fought over the seven mystical dragon balls, and only the strongest will survive in Dragon Ball Z.\"], 'episodes': [500, 366, 167, 291]}\n"
     ]
    }
   ],
   "source": [
    "print(recommendations)"
   ]
  }
 ],
 "metadata": {
  "kernelspec": {
   "display_name": "Python 3",
   "language": "python",
   "name": "python3"
  },
  "language_info": {
   "codemirror_mode": {
    "name": "ipython",
    "version": 3
   },
   "file_extension": ".py",
   "mimetype": "text/x-python",
   "name": "python",
   "nbconvert_exporter": "python",
   "pygments_lexer": "ipython3",
   "version": "3.11.4"
  },
  "orig_nbformat": 4
 },
 "nbformat": 4,
 "nbformat_minor": 2
}
