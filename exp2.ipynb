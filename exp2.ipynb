{
 "cells": [
  {
   "cell_type": "code",
   "execution_count": 4,
   "metadata": {},
   "outputs": [
    {
     "ename": "ImportError",
     "evalue": "cannot import name 'cface' from 'ChernoffFace' (c:\\Python311\\Lib\\site-packages\\ChernoffFace\\__init__.py)",
     "output_type": "error",
     "traceback": [
      "\u001b[1;31m---------------------------------------------------------------------------\u001b[0m",
      "\u001b[1;31mImportError\u001b[0m                               Traceback (most recent call last)",
      "Cell \u001b[1;32mIn[4], line 3\u001b[0m\n\u001b[0;32m      1\u001b[0m \u001b[39m# Basic libraries\u001b[39;00m\n\u001b[0;32m      2\u001b[0m \u001b[39mfrom\u001b[39;00m \u001b[39mrandom\u001b[39;00m \u001b[39mimport\u001b[39;00m randint\n\u001b[1;32m----> 3\u001b[0m \u001b[39mfrom\u001b[39;00m \u001b[39mChernoffFace\u001b[39;00m \u001b[39mimport\u001b[39;00m cface\n\u001b[0;32m      5\u001b[0m \u001b[39m# Import numpy, pandas and matplot libraries\u001b[39;00m\n\u001b[0;32m      6\u001b[0m \u001b[39mimport\u001b[39;00m \u001b[39mnumpy\u001b[39;00m \u001b[39mas\u001b[39;00m \u001b[39mnp\u001b[39;00m\n",
      "\u001b[1;31mImportError\u001b[0m: cannot import name 'cface' from 'ChernoffFace' (c:\\Python311\\Lib\\site-packages\\ChernoffFace\\__init__.py)"
     ]
    }
   ],
   "source": [
    "# Basic libraries\n",
    "from random import randint\n",
    "from ChernoffFace import cface\n",
    "\n",
    "# Import numpy, pandas and matplot libraries\n",
    "import numpy as np\n",
    "import pandas as pd\n",
    "import scipy.stats as stats\n",
    "import matplotlib.pyplot as plt\n",
    "from wordcloud import WordCloud\n",
    "%matplotlib inline\n",
    "\n",
    "# Machine learning libraries\n",
    "from sklearn.decomposition import PCA\n",
    "from sklearn.cluster import KMeans\n",
    "from sklearn.metrics import silhouette_score\n",
    "\n",
    "# Finding spark in jupyter notebook\n",
    "import findspark\n",
    "findspark.init()\n",
    "\n",
    "# Frequent pattern libraries\n",
    "from pyspark.sql import SparkSession\n",
    "from pyspark.ml.fpm import FPGrowth\n",
    "from pyspark.sql.functions import *\n",
    "\n",
    "# Import HTML lib for changing direction of page\n",
    "from IPython.display import HTML\n",
    "from IPython.display import display\n",
    "HTML('<style>.output{flex-direction:row;flex-wrap:wrap}</style>')\n",
    "\n",
    "# Setup style of charts\n",
    "plt.style.use('seaborn')\n",
    "%config InlineBackend.figure_formats = {'png', 'retina'}\n"
   ]
  },
  {
   "cell_type": "code",
   "execution_count": 3,
   "metadata": {},
   "outputs": [
    {
     "name": "stdout",
     "output_type": "stream",
     "text": [
      "Collecting ChernoffFace\n",
      "  Downloading ChernoffFace-0.1.4-py3-none-any.whl (16 kB)\n",
      "Requirement already satisfied: numpy in c:\\python311\\lib\\site-packages (from ChernoffFace) (1.25.1)\n",
      "Requirement already satisfied: matplotlib in c:\\python311\\lib\\site-packages (from ChernoffFace) (3.7.2)\n",
      "Requirement already satisfied: pillow in c:\\python311\\lib\\site-packages (from ChernoffFace) (10.0.0)\n",
      "Requirement already satisfied: contourpy>=1.0.1 in c:\\python311\\lib\\site-packages (from matplotlib->ChernoffFace) (1.1.0)\n",
      "Requirement already satisfied: cycler>=0.10 in c:\\python311\\lib\\site-packages (from matplotlib->ChernoffFace) (0.11.0)\n",
      "Requirement already satisfied: fonttools>=4.22.0 in c:\\python311\\lib\\site-packages (from matplotlib->ChernoffFace) (4.41.1)\n",
      "Requirement already satisfied: kiwisolver>=1.0.1 in c:\\python311\\lib\\site-packages (from matplotlib->ChernoffFace) (1.4.4)\n",
      "Requirement already satisfied: packaging>=20.0 in c:\\users\\udit hasija\\appdata\\roaming\\python\\python311\\site-packages (from matplotlib->ChernoffFace) (23.1)\n",
      "Requirement already satisfied: pyparsing<3.1,>=2.3.1 in c:\\python311\\lib\\site-packages (from matplotlib->ChernoffFace) (3.0.9)\n",
      "Requirement already satisfied: python-dateutil>=2.7 in c:\\users\\udit hasija\\appdata\\roaming\\python\\python311\\site-packages (from matplotlib->ChernoffFace) (2.8.2)\n",
      "Requirement already satisfied: six>=1.5 in c:\\users\\udit hasija\\appdata\\roaming\\python\\python311\\site-packages (from python-dateutil>=2.7->matplotlib->ChernoffFace) (1.16.0)\n",
      "Installing collected packages: ChernoffFace\n",
      "Successfully installed ChernoffFace-0.1.4\n",
      "Note: you may need to restart the kernel to use updated packages.\n"
     ]
    }
   ],
   "source": [
    "pip install ChernoffFace"
   ]
  },
  {
   "cell_type": "code",
   "execution_count": null,
   "metadata": {},
   "outputs": [],
   "source": []
  }
 ],
 "metadata": {
  "kernelspec": {
   "display_name": "Python 3",
   "language": "python",
   "name": "python3"
  },
  "language_info": {
   "codemirror_mode": {
    "name": "ipython",
    "version": 3
   },
   "file_extension": ".py",
   "mimetype": "text/x-python",
   "name": "python",
   "nbconvert_exporter": "python",
   "pygments_lexer": "ipython3",
   "version": "3.11.4"
  },
  "orig_nbformat": 4
 },
 "nbformat": 4,
 "nbformat_minor": 2
}
